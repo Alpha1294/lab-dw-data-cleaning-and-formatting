{
 "cells": [
  {
   "cell_type": "markdown",
   "id": "25d7736c-ba17-4aff-b6bb-66eba20fbf4e",
   "metadata": {
    "id": "25d7736c-ba17-4aff-b6bb-66eba20fbf4e"
   },
   "source": [
    "# Lab | Data Cleaning and Formatting"
   ]
  },
  {
   "cell_type": "markdown",
   "id": "d1973e9e-8be6-4039-b70e-d73ee0d94c99",
   "metadata": {
    "id": "d1973e9e-8be6-4039-b70e-d73ee0d94c99"
   },
   "source": [
    "In this lab, we will be working with the customer data from an insurance company, which can be found in the CSV file located at the following link: https://raw.githubusercontent.com/data-bootcamp-v4/data/main/file1.csv\n"
   ]
  },
  {
   "cell_type": "markdown",
   "id": "31b8a9e7-7db9-4604-991b-ef6771603e57",
   "metadata": {
    "id": "31b8a9e7-7db9-4604-991b-ef6771603e57"
   },
   "source": [
    "# Challenge 1: Data Cleaning and Formatting"
   ]
  },
  {
   "cell_type": "markdown",
   "id": "81553f19-9f2c-484b-8940-520aff884022",
   "metadata": {
    "id": "81553f19-9f2c-484b-8940-520aff884022"
   },
   "source": [
    "## Exercise 1: Cleaning Column Names"
   ]
  },
  {
   "cell_type": "markdown",
   "id": "34a929f4-1be4-4fa8-adda-42ffd920be90",
   "metadata": {
    "id": "34a929f4-1be4-4fa8-adda-42ffd920be90"
   },
   "source": [
    "To ensure consistency and ease of use, standardize the column names of the dataframe. Start by taking a first look at the dataframe and identifying any column names that need to be modified. Use appropriate naming conventions and make sure that column names are descriptive and informative.\n",
    "\n",
    "*Hint*:\n",
    "- *Column names should be in lower case*\n",
    "- *White spaces in column names should be replaced by `_`*\n",
    "- *`st` could be replaced for `state`*"
   ]
  },
  {
   "cell_type": "code",
   "execution_count": 81,
   "id": "5810735c-8056-4442-bbf2-dda38d3e284a",
   "metadata": {
    "id": "5810735c-8056-4442-bbf2-dda38d3e284a"
   },
   "outputs": [
    {
     "data": {
      "text/html": [
       "<div>\n",
       "<style scoped>\n",
       "    .dataframe tbody tr th:only-of-type {\n",
       "        vertical-align: middle;\n",
       "    }\n",
       "\n",
       "    .dataframe tbody tr th {\n",
       "        vertical-align: top;\n",
       "    }\n",
       "\n",
       "    .dataframe thead th {\n",
       "        text-align: right;\n",
       "    }\n",
       "</style>\n",
       "<table border=\"1\" class=\"dataframe\">\n",
       "  <thead>\n",
       "    <tr style=\"text-align: right;\">\n",
       "      <th></th>\n",
       "      <th>Customer</th>\n",
       "      <th>ST</th>\n",
       "      <th>GENDER</th>\n",
       "      <th>Education</th>\n",
       "      <th>Customer Lifetime Value</th>\n",
       "      <th>Income</th>\n",
       "      <th>Monthly Premium Auto</th>\n",
       "      <th>Number of Open Complaints</th>\n",
       "      <th>Policy Type</th>\n",
       "      <th>Vehicle Class</th>\n",
       "      <th>Total Claim Amount</th>\n",
       "    </tr>\n",
       "  </thead>\n",
       "  <tbody>\n",
       "    <tr>\n",
       "      <th>0</th>\n",
       "      <td>RB50392</td>\n",
       "      <td>Washington</td>\n",
       "      <td>NaN</td>\n",
       "      <td>Master</td>\n",
       "      <td>NaN</td>\n",
       "      <td>0.0</td>\n",
       "      <td>1000.0</td>\n",
       "      <td>1/0/00</td>\n",
       "      <td>Personal Auto</td>\n",
       "      <td>Four-Door Car</td>\n",
       "      <td>2.704934</td>\n",
       "    </tr>\n",
       "    <tr>\n",
       "      <th>1</th>\n",
       "      <td>QZ44356</td>\n",
       "      <td>Arizona</td>\n",
       "      <td>F</td>\n",
       "      <td>Bachelor</td>\n",
       "      <td>697953.59%</td>\n",
       "      <td>0.0</td>\n",
       "      <td>94.0</td>\n",
       "      <td>1/0/00</td>\n",
       "      <td>Personal Auto</td>\n",
       "      <td>Four-Door Car</td>\n",
       "      <td>1131.464935</td>\n",
       "    </tr>\n",
       "    <tr>\n",
       "      <th>2</th>\n",
       "      <td>AI49188</td>\n",
       "      <td>Nevada</td>\n",
       "      <td>F</td>\n",
       "      <td>Bachelor</td>\n",
       "      <td>1288743.17%</td>\n",
       "      <td>48767.0</td>\n",
       "      <td>108.0</td>\n",
       "      <td>1/0/00</td>\n",
       "      <td>Personal Auto</td>\n",
       "      <td>Two-Door Car</td>\n",
       "      <td>566.472247</td>\n",
       "    </tr>\n",
       "    <tr>\n",
       "      <th>3</th>\n",
       "      <td>WW63253</td>\n",
       "      <td>California</td>\n",
       "      <td>M</td>\n",
       "      <td>Bachelor</td>\n",
       "      <td>764586.18%</td>\n",
       "      <td>0.0</td>\n",
       "      <td>106.0</td>\n",
       "      <td>1/0/00</td>\n",
       "      <td>Corporate Auto</td>\n",
       "      <td>SUV</td>\n",
       "      <td>529.881344</td>\n",
       "    </tr>\n",
       "    <tr>\n",
       "      <th>4</th>\n",
       "      <td>GA49547</td>\n",
       "      <td>Washington</td>\n",
       "      <td>M</td>\n",
       "      <td>High School or Below</td>\n",
       "      <td>536307.65%</td>\n",
       "      <td>36357.0</td>\n",
       "      <td>68.0</td>\n",
       "      <td>1/0/00</td>\n",
       "      <td>Personal Auto</td>\n",
       "      <td>Four-Door Car</td>\n",
       "      <td>17.269323</td>\n",
       "    </tr>\n",
       "  </tbody>\n",
       "</table>\n",
       "</div>"
      ],
      "text/plain": [
       "  Customer          ST GENDER             Education Customer Lifetime Value  \\\n",
       "0  RB50392  Washington    NaN                Master                     NaN   \n",
       "1  QZ44356     Arizona      F              Bachelor              697953.59%   \n",
       "2  AI49188      Nevada      F              Bachelor             1288743.17%   \n",
       "3  WW63253  California      M              Bachelor              764586.18%   \n",
       "4  GA49547  Washington      M  High School or Below              536307.65%   \n",
       "\n",
       "    Income  Monthly Premium Auto Number of Open Complaints     Policy Type  \\\n",
       "0      0.0                1000.0                    1/0/00   Personal Auto   \n",
       "1      0.0                  94.0                    1/0/00   Personal Auto   \n",
       "2  48767.0                 108.0                    1/0/00   Personal Auto   \n",
       "3      0.0                 106.0                    1/0/00  Corporate Auto   \n",
       "4  36357.0                  68.0                    1/0/00   Personal Auto   \n",
       "\n",
       "   Vehicle Class  Total Claim Amount  \n",
       "0  Four-Door Car            2.704934  \n",
       "1  Four-Door Car         1131.464935  \n",
       "2   Two-Door Car          566.472247  \n",
       "3            SUV          529.881344  \n",
       "4  Four-Door Car           17.269323  "
      ]
     },
     "execution_count": 81,
     "metadata": {},
     "output_type": "execute_result"
    }
   ],
   "source": [
    "# Your code here\n",
    "import pandas as pd\n",
    "\n",
    "url=\"https://raw.githubusercontent.com/data-bootcamp-v4/data/main/file1.csv\"\n",
    "dataFrame = pd.read_csv(url)\n",
    "dataFrame.head()"
   ]
  },
  {
   "cell_type": "code",
   "execution_count": 109,
   "id": "bb2d44e0",
   "metadata": {},
   "outputs": [
    {
     "data": {
      "text/html": [
       "<div>\n",
       "<style scoped>\n",
       "    .dataframe tbody tr th:only-of-type {\n",
       "        vertical-align: middle;\n",
       "    }\n",
       "\n",
       "    .dataframe tbody tr th {\n",
       "        vertical-align: top;\n",
       "    }\n",
       "\n",
       "    .dataframe thead th {\n",
       "        text-align: right;\n",
       "    }\n",
       "</style>\n",
       "<table border=\"1\" class=\"dataframe\">\n",
       "  <thead>\n",
       "    <tr style=\"text-align: right;\">\n",
       "      <th></th>\n",
       "      <th>customer_id</th>\n",
       "      <th>state</th>\n",
       "      <th>gender</th>\n",
       "      <th>education</th>\n",
       "      <th>customer_life_time_value</th>\n",
       "      <th>income</th>\n",
       "      <th>monthly_premium</th>\n",
       "      <th>open_complaints</th>\n",
       "      <th>policy_type</th>\n",
       "      <th>vehicle_class</th>\n",
       "      <th>total_claim</th>\n",
       "    </tr>\n",
       "  </thead>\n",
       "  <tbody>\n",
       "    <tr>\n",
       "      <th>0</th>\n",
       "      <td>RB50392</td>\n",
       "      <td>Washington</td>\n",
       "      <td>U</td>\n",
       "      <td>Master</td>\n",
       "      <td>NaN</td>\n",
       "      <td>0.0</td>\n",
       "      <td>1000.0</td>\n",
       "      <td>0.0</td>\n",
       "      <td>Personal Auto</td>\n",
       "      <td>Four-Door Car</td>\n",
       "      <td>2.704934</td>\n",
       "    </tr>\n",
       "    <tr>\n",
       "      <th>1</th>\n",
       "      <td>QZ44356</td>\n",
       "      <td>Arizona</td>\n",
       "      <td>F</td>\n",
       "      <td>Bachelor</td>\n",
       "      <td>6979.5359</td>\n",
       "      <td>0.0</td>\n",
       "      <td>94.0</td>\n",
       "      <td>0.0</td>\n",
       "      <td>Personal Auto</td>\n",
       "      <td>Four-Door Car</td>\n",
       "      <td>1131.464935</td>\n",
       "    </tr>\n",
       "    <tr>\n",
       "      <th>2</th>\n",
       "      <td>AI49188</td>\n",
       "      <td>Nevada</td>\n",
       "      <td>F</td>\n",
       "      <td>Bachelor</td>\n",
       "      <td>12887.4317</td>\n",
       "      <td>48767.0</td>\n",
       "      <td>108.0</td>\n",
       "      <td>0.0</td>\n",
       "      <td>Personal Auto</td>\n",
       "      <td>Two-Door Car</td>\n",
       "      <td>566.472247</td>\n",
       "    </tr>\n",
       "    <tr>\n",
       "      <th>3</th>\n",
       "      <td>WW63253</td>\n",
       "      <td>California</td>\n",
       "      <td>M</td>\n",
       "      <td>Bachelor</td>\n",
       "      <td>7645.8618</td>\n",
       "      <td>0.0</td>\n",
       "      <td>106.0</td>\n",
       "      <td>0.0</td>\n",
       "      <td>Corporate Auto</td>\n",
       "      <td>SUV</td>\n",
       "      <td>529.881344</td>\n",
       "    </tr>\n",
       "    <tr>\n",
       "      <th>4</th>\n",
       "      <td>GA49547</td>\n",
       "      <td>Washington</td>\n",
       "      <td>M</td>\n",
       "      <td>High School or Below</td>\n",
       "      <td>5363.0765</td>\n",
       "      <td>36357.0</td>\n",
       "      <td>68.0</td>\n",
       "      <td>0.0</td>\n",
       "      <td>Personal Auto</td>\n",
       "      <td>Four-Door Car</td>\n",
       "      <td>17.269323</td>\n",
       "    </tr>\n",
       "    <tr>\n",
       "      <th>...</th>\n",
       "      <td>...</td>\n",
       "      <td>...</td>\n",
       "      <td>...</td>\n",
       "      <td>...</td>\n",
       "      <td>...</td>\n",
       "      <td>...</td>\n",
       "      <td>...</td>\n",
       "      <td>...</td>\n",
       "      <td>...</td>\n",
       "      <td>...</td>\n",
       "      <td>...</td>\n",
       "    </tr>\n",
       "    <tr>\n",
       "      <th>4003</th>\n",
       "      <td>NaN</td>\n",
       "      <td>NaN</td>\n",
       "      <td>U</td>\n",
       "      <td>NaN</td>\n",
       "      <td>NaN</td>\n",
       "      <td>NaN</td>\n",
       "      <td>NaN</td>\n",
       "      <td>NaN</td>\n",
       "      <td>NaN</td>\n",
       "      <td>NaN</td>\n",
       "      <td>NaN</td>\n",
       "    </tr>\n",
       "    <tr>\n",
       "      <th>4004</th>\n",
       "      <td>NaN</td>\n",
       "      <td>NaN</td>\n",
       "      <td>U</td>\n",
       "      <td>NaN</td>\n",
       "      <td>NaN</td>\n",
       "      <td>NaN</td>\n",
       "      <td>NaN</td>\n",
       "      <td>NaN</td>\n",
       "      <td>NaN</td>\n",
       "      <td>NaN</td>\n",
       "      <td>NaN</td>\n",
       "    </tr>\n",
       "    <tr>\n",
       "      <th>4005</th>\n",
       "      <td>NaN</td>\n",
       "      <td>NaN</td>\n",
       "      <td>U</td>\n",
       "      <td>NaN</td>\n",
       "      <td>NaN</td>\n",
       "      <td>NaN</td>\n",
       "      <td>NaN</td>\n",
       "      <td>NaN</td>\n",
       "      <td>NaN</td>\n",
       "      <td>NaN</td>\n",
       "      <td>NaN</td>\n",
       "    </tr>\n",
       "    <tr>\n",
       "      <th>4006</th>\n",
       "      <td>NaN</td>\n",
       "      <td>NaN</td>\n",
       "      <td>U</td>\n",
       "      <td>NaN</td>\n",
       "      <td>NaN</td>\n",
       "      <td>NaN</td>\n",
       "      <td>NaN</td>\n",
       "      <td>NaN</td>\n",
       "      <td>NaN</td>\n",
       "      <td>NaN</td>\n",
       "      <td>NaN</td>\n",
       "    </tr>\n",
       "    <tr>\n",
       "      <th>4007</th>\n",
       "      <td>NaN</td>\n",
       "      <td>NaN</td>\n",
       "      <td>U</td>\n",
       "      <td>NaN</td>\n",
       "      <td>NaN</td>\n",
       "      <td>NaN</td>\n",
       "      <td>NaN</td>\n",
       "      <td>NaN</td>\n",
       "      <td>NaN</td>\n",
       "      <td>NaN</td>\n",
       "      <td>NaN</td>\n",
       "    </tr>\n",
       "  </tbody>\n",
       "</table>\n",
       "<p>4008 rows × 11 columns</p>\n",
       "</div>"
      ],
      "text/plain": [
       "     customer_id       state gender             education  \\\n",
       "0        RB50392  Washington      U                Master   \n",
       "1        QZ44356     Arizona      F              Bachelor   \n",
       "2        AI49188      Nevada      F              Bachelor   \n",
       "3        WW63253  California      M              Bachelor   \n",
       "4        GA49547  Washington      M  High School or Below   \n",
       "...          ...         ...    ...                   ...   \n",
       "4003         NaN         NaN      U                   NaN   \n",
       "4004         NaN         NaN      U                   NaN   \n",
       "4005         NaN         NaN      U                   NaN   \n",
       "4006         NaN         NaN      U                   NaN   \n",
       "4007         NaN         NaN      U                   NaN   \n",
       "\n",
       "      customer_life_time_value   income  monthly_premium  open_complaints  \\\n",
       "0                          NaN      0.0           1000.0              0.0   \n",
       "1                    6979.5359      0.0             94.0              0.0   \n",
       "2                   12887.4317  48767.0            108.0              0.0   \n",
       "3                    7645.8618      0.0            106.0              0.0   \n",
       "4                    5363.0765  36357.0             68.0              0.0   \n",
       "...                        ...      ...              ...              ...   \n",
       "4003                       NaN      NaN              NaN              NaN   \n",
       "4004                       NaN      NaN              NaN              NaN   \n",
       "4005                       NaN      NaN              NaN              NaN   \n",
       "4006                       NaN      NaN              NaN              NaN   \n",
       "4007                       NaN      NaN              NaN              NaN   \n",
       "\n",
       "         policy_type  vehicle_class  total_claim  \n",
       "0      Personal Auto  Four-Door Car     2.704934  \n",
       "1      Personal Auto  Four-Door Car  1131.464935  \n",
       "2      Personal Auto   Two-Door Car   566.472247  \n",
       "3     Corporate Auto            SUV   529.881344  \n",
       "4      Personal Auto  Four-Door Car    17.269323  \n",
       "...              ...            ...          ...  \n",
       "4003             NaN            NaN          NaN  \n",
       "4004             NaN            NaN          NaN  \n",
       "4005             NaN            NaN          NaN  \n",
       "4006             NaN            NaN          NaN  \n",
       "4007             NaN            NaN          NaN  \n",
       "\n",
       "[4008 rows x 11 columns]"
      ]
     },
     "execution_count": 109,
     "metadata": {},
     "output_type": "execute_result"
    }
   ],
   "source": [
    "#change names to lower case\n",
    "dataFrame.columns = [col.lower() for col in dataFrame.columns]\n",
    "dataFrame"
   ]
  },
  {
   "cell_type": "code",
   "execution_count": 83,
   "id": "98f8a418",
   "metadata": {},
   "outputs": [
    {
     "data": {
      "text/plain": [
       "Index(['customer', 'st', 'gender', 'education', 'customer lifetime value',\n",
       "       'income', 'monthly premium auto', 'number of open complaints',\n",
       "       'policy type', 'vehicle class', 'total claim amount'],\n",
       "      dtype='object')"
      ]
     },
     "execution_count": 83,
     "metadata": {},
     "output_type": "execute_result"
    }
   ],
   "source": [
    "#rename some of the columns\n",
    "dataFrame.columns"
   ]
  },
  {
   "cell_type": "code",
   "execution_count": 84,
   "id": "bd9f87c9",
   "metadata": {
    "scrolled": true
   },
   "outputs": [
    {
     "data": {
      "text/html": [
       "<div>\n",
       "<style scoped>\n",
       "    .dataframe tbody tr th:only-of-type {\n",
       "        vertical-align: middle;\n",
       "    }\n",
       "\n",
       "    .dataframe tbody tr th {\n",
       "        vertical-align: top;\n",
       "    }\n",
       "\n",
       "    .dataframe thead th {\n",
       "        text-align: right;\n",
       "    }\n",
       "</style>\n",
       "<table border=\"1\" class=\"dataframe\">\n",
       "  <thead>\n",
       "    <tr style=\"text-align: right;\">\n",
       "      <th></th>\n",
       "      <th>customer_id</th>\n",
       "      <th>state</th>\n",
       "      <th>gender</th>\n",
       "      <th>education</th>\n",
       "      <th>customer_life_time_value</th>\n",
       "      <th>income</th>\n",
       "      <th>monthly_premium</th>\n",
       "      <th>open_complaints</th>\n",
       "      <th>policy_type</th>\n",
       "      <th>vehicle_class</th>\n",
       "      <th>total_claim</th>\n",
       "    </tr>\n",
       "  </thead>\n",
       "  <tbody>\n",
       "    <tr>\n",
       "      <th>0</th>\n",
       "      <td>RB50392</td>\n",
       "      <td>Washington</td>\n",
       "      <td>NaN</td>\n",
       "      <td>Master</td>\n",
       "      <td>NaN</td>\n",
       "      <td>0.0</td>\n",
       "      <td>1000.0</td>\n",
       "      <td>1/0/00</td>\n",
       "      <td>Personal Auto</td>\n",
       "      <td>Four-Door Car</td>\n",
       "      <td>2.704934</td>\n",
       "    </tr>\n",
       "    <tr>\n",
       "      <th>1</th>\n",
       "      <td>QZ44356</td>\n",
       "      <td>Arizona</td>\n",
       "      <td>F</td>\n",
       "      <td>Bachelor</td>\n",
       "      <td>697953.59%</td>\n",
       "      <td>0.0</td>\n",
       "      <td>94.0</td>\n",
       "      <td>1/0/00</td>\n",
       "      <td>Personal Auto</td>\n",
       "      <td>Four-Door Car</td>\n",
       "      <td>1131.464935</td>\n",
       "    </tr>\n",
       "    <tr>\n",
       "      <th>2</th>\n",
       "      <td>AI49188</td>\n",
       "      <td>Nevada</td>\n",
       "      <td>F</td>\n",
       "      <td>Bachelor</td>\n",
       "      <td>1288743.17%</td>\n",
       "      <td>48767.0</td>\n",
       "      <td>108.0</td>\n",
       "      <td>1/0/00</td>\n",
       "      <td>Personal Auto</td>\n",
       "      <td>Two-Door Car</td>\n",
       "      <td>566.472247</td>\n",
       "    </tr>\n",
       "    <tr>\n",
       "      <th>3</th>\n",
       "      <td>WW63253</td>\n",
       "      <td>California</td>\n",
       "      <td>M</td>\n",
       "      <td>Bachelor</td>\n",
       "      <td>764586.18%</td>\n",
       "      <td>0.0</td>\n",
       "      <td>106.0</td>\n",
       "      <td>1/0/00</td>\n",
       "      <td>Corporate Auto</td>\n",
       "      <td>SUV</td>\n",
       "      <td>529.881344</td>\n",
       "    </tr>\n",
       "    <tr>\n",
       "      <th>4</th>\n",
       "      <td>GA49547</td>\n",
       "      <td>Washington</td>\n",
       "      <td>M</td>\n",
       "      <td>High School or Below</td>\n",
       "      <td>536307.65%</td>\n",
       "      <td>36357.0</td>\n",
       "      <td>68.0</td>\n",
       "      <td>1/0/00</td>\n",
       "      <td>Personal Auto</td>\n",
       "      <td>Four-Door Car</td>\n",
       "      <td>17.269323</td>\n",
       "    </tr>\n",
       "  </tbody>\n",
       "</table>\n",
       "</div>"
      ],
      "text/plain": [
       "  customer_id       state gender             education  \\\n",
       "0     RB50392  Washington    NaN                Master   \n",
       "1     QZ44356     Arizona      F              Bachelor   \n",
       "2     AI49188      Nevada      F              Bachelor   \n",
       "3     WW63253  California      M              Bachelor   \n",
       "4     GA49547  Washington      M  High School or Below   \n",
       "\n",
       "  customer_life_time_value   income  monthly_premium open_complaints  \\\n",
       "0                      NaN      0.0           1000.0          1/0/00   \n",
       "1               697953.59%      0.0             94.0          1/0/00   \n",
       "2              1288743.17%  48767.0            108.0          1/0/00   \n",
       "3               764586.18%      0.0            106.0          1/0/00   \n",
       "4               536307.65%  36357.0             68.0          1/0/00   \n",
       "\n",
       "      policy_type  vehicle_class  total_claim  \n",
       "0   Personal Auto  Four-Door Car     2.704934  \n",
       "1   Personal Auto  Four-Door Car  1131.464935  \n",
       "2   Personal Auto   Two-Door Car   566.472247  \n",
       "3  Corporate Auto            SUV   529.881344  \n",
       "4   Personal Auto  Four-Door Car    17.269323  "
      ]
     },
     "execution_count": 84,
     "metadata": {},
     "output_type": "execute_result"
    }
   ],
   "source": [
    "new_column_names = ['customer_id', 'state', 'gender', 'education', 'customer_life_time_value','income', 'monthly_premium', 'open_complaints','policy_type', 'vehicle_class', 'total_claim']\n",
    "dataFrame.columns = new_column_names\n",
    "dataFrame.head()"
   ]
  },
  {
   "cell_type": "markdown",
   "id": "9cb501ec-36ff-4589-b872-6252bb150316",
   "metadata": {
    "id": "9cb501ec-36ff-4589-b872-6252bb150316"
   },
   "source": [
    "## Exercise 2: Cleaning invalid Values"
   ]
  },
  {
   "cell_type": "markdown",
   "id": "771fdcf3-8e20-4b06-9c24-3a93ba2b0909",
   "metadata": {
    "id": "771fdcf3-8e20-4b06-9c24-3a93ba2b0909"
   },
   "source": [
    "The dataset contains columns with inconsistent and incorrect values that could affect the accuracy of our analysis. Therefore, we need to clean these columns to ensure that they only contain valid data.\n",
    "\n",
    "Note that this exercise will focus only on cleaning inconsistent values and will not involve handling null values (NaN or None).\n",
    "\n",
    "*Hint*:\n",
    "- *Gender column contains various inconsistent values such as \"F\", \"M\", \"Femal\", \"Male\", \"female\", which need to be standardized, for example, to \"M\" and \"F\".*\n",
    "- *State abbreviations be can replaced with its full name, for example \"AZ\": \"Arizona\", \"Cali\": \"California\", \"WA\": \"Washington\"*\n",
    "- *In education, \"Bachelors\" could be replaced by \"Bachelor\"*\n",
    "- *In Customer Lifetime Value, delete the `%` character*\n",
    "- *In vehicle class, \"Sports Car\", \"Luxury SUV\" and \"Luxury Car\" could be replaced by \"Luxury\"*"
   ]
  },
  {
   "cell_type": "code",
   "execution_count": 85,
   "id": "6eae02a9",
   "metadata": {},
   "outputs": [
    {
     "data": {
      "text/plain": [
       "array([nan, 'F', 'M', 'Femal', 'Male', 'female'], dtype=object)"
      ]
     },
     "execution_count": 85,
     "metadata": {},
     "output_type": "execute_result"
    }
   ],
   "source": [
    "dataFrame[\"gender\"].unique()"
   ]
  },
  {
   "cell_type": "code",
   "execution_count": 86,
   "id": "17a0c817",
   "metadata": {},
   "outputs": [
    {
     "data": {
      "text/plain": [
       "F         457\n",
       "M         413\n",
       "MALE       39\n",
       "FEMALE     28\n",
       "FEMAL      17\n",
       "Name: gender, dtype: int64"
      ]
     },
     "execution_count": 86,
     "metadata": {},
     "output_type": "execute_result"
    }
   ],
   "source": [
    "# Your code here\n",
    "#first we change everything to uppercase\n",
    "dataFrame[\"gender\"] = dataFrame[\"gender\"].str.upper()\n",
    "dataFrame[\"gender\"].value_counts()"
   ]
  },
  {
   "cell_type": "code",
   "execution_count": 87,
   "id": "3f8ee5cb-50ab-48af-8a9f-9a389804033c",
   "metadata": {
    "id": "3f8ee5cb-50ab-48af-8a9f-9a389804033c"
   },
   "outputs": [
    {
     "data": {
      "text/plain": [
       "U    3054\n",
       "F     502\n",
       "M     452\n",
       "Name: gender, dtype: int64"
      ]
     },
     "execution_count": 87,
     "metadata": {},
     "output_type": "execute_result"
    }
   ],
   "source": [
    "\n",
    "#we can make a function that changes the values we want\n",
    "def clean(x):\n",
    "    if x in ['M', 'MALE']:\n",
    "        return 'M'\n",
    "    elif x in ['F', 'FEMALE', \"FEMAL\"]:\n",
    "        return 'F'\n",
    "    else:\n",
    "        return 'U'\n",
    "    \n",
    "\n",
    "dataFrame['gender'] = list(map(clean, dataFrame['gender']))\n",
    "dataFrame['gender'].unique()  # To check the results again\n",
    "dataFrame[\"gender\"].value_counts()"
   ]
  },
  {
   "cell_type": "code",
   "execution_count": 88,
   "id": "4547084f",
   "metadata": {},
   "outputs": [
    {
     "data": {
      "text/plain": [
       "array(['Washington', 'Arizona', 'Nevada', 'California', 'Oregon', 'Cali',\n",
       "       'AZ', 'WA', nan], dtype=object)"
      ]
     },
     "execution_count": 88,
     "metadata": {},
     "output_type": "execute_result"
    }
   ],
   "source": [
    "# State abbreviations be can replaced with its full name, for example \"AZ\": \"Arizona\", \"Cali\": \"California\", \"WA\": \"Washington\"\n",
    "dataFrame[\"state\"].unique()"
   ]
  },
  {
   "cell_type": "code",
   "execution_count": 89,
   "id": "d788edde",
   "metadata": {},
   "outputs": [
    {
     "data": {
      "text/plain": [
       "array(['Washington', 'Arizona', 'Nevada', 'California', 'Oregon', nan],\n",
       "      dtype=object)"
      ]
     },
     "execution_count": 89,
     "metadata": {},
     "output_type": "execute_result"
    }
   ],
   "source": [
    "#doing a dictionary with the replacements,so in the left is the old one and in the right the new one, i had to put a extra one cuz i had a typo error\n",
    "state_replacements = {\n",
    "    \"AZ\" : \"Arizona\",\n",
    "    \"Cali\" : \"California\",\n",
    "    \"WA\" : \"Washington\",\n",
    "    \"Washinton\" : \"Washington\"\n",
    "}\n",
    "\n",
    "# Replacing the abreviations\n",
    "dataFrame[\"state\"] = dataFrame[\"state\"].replace(state_replacements)\n",
    "dataFrame[\"state\"].unique()"
   ]
  },
  {
   "cell_type": "code",
   "execution_count": 90,
   "id": "6261afeb",
   "metadata": {},
   "outputs": [
    {
     "data": {
      "text/plain": [
       "array(['Master', 'Bachelor', 'High School or Below', 'College',\n",
       "       'Bachelors', 'Doctor', nan], dtype=object)"
      ]
     },
     "execution_count": 90,
     "metadata": {},
     "output_type": "execute_result"
    }
   ],
   "source": [
    "# In education, \"Bachelors\" could be replaced by \"Bachelor\"\n",
    "dataFrame[\"education\"].unique()"
   ]
  },
  {
   "cell_type": "code",
   "execution_count": 91,
   "id": "e50dede2",
   "metadata": {},
   "outputs": [
    {
     "data": {
      "text/plain": [
       "array(['Master', 'Bachelor', 'High School or Below', 'College', 'Doctor',\n",
       "       nan], dtype=object)"
      ]
     },
     "execution_count": 91,
     "metadata": {},
     "output_type": "execute_result"
    }
   ],
   "source": [
    "\n",
    "dataFrame[\"education\"] = dataFrame[\"education\"].replace(\"Bachelors\",\"Bachelor\")\n",
    "dataFrame[\"education\"].unique()"
   ]
  },
  {
   "cell_type": "code",
   "execution_count": 92,
   "id": "fa3d4f84",
   "metadata": {},
   "outputs": [
    {
     "data": {
      "text/plain": [
       "dtype('O')"
      ]
     },
     "execution_count": 92,
     "metadata": {},
     "output_type": "execute_result"
    }
   ],
   "source": [
    "# In Customer Lifetime Value, delete the % character\n",
    "#firs i need to know what type is \n",
    "dataFrame[\"customer_life_time_value\"].dtype\n",
    "#seems to be a object which in panda is treated as a string also ,so we can just remove it with rstrip() function and then make it be a float"
   ]
  },
  {
   "cell_type": "code",
   "execution_count": 93,
   "id": "2f133b7e",
   "metadata": {},
   "outputs": [
    {
     "data": {
      "text/html": [
       "<div>\n",
       "<style scoped>\n",
       "    .dataframe tbody tr th:only-of-type {\n",
       "        vertical-align: middle;\n",
       "    }\n",
       "\n",
       "    .dataframe tbody tr th {\n",
       "        vertical-align: top;\n",
       "    }\n",
       "\n",
       "    .dataframe thead th {\n",
       "        text-align: right;\n",
       "    }\n",
       "</style>\n",
       "<table border=\"1\" class=\"dataframe\">\n",
       "  <thead>\n",
       "    <tr style=\"text-align: right;\">\n",
       "      <th></th>\n",
       "      <th>customer_id</th>\n",
       "      <th>state</th>\n",
       "      <th>gender</th>\n",
       "      <th>education</th>\n",
       "      <th>customer_life_time_value</th>\n",
       "      <th>income</th>\n",
       "      <th>monthly_premium</th>\n",
       "      <th>open_complaints</th>\n",
       "      <th>policy_type</th>\n",
       "      <th>vehicle_class</th>\n",
       "      <th>total_claim</th>\n",
       "    </tr>\n",
       "  </thead>\n",
       "  <tbody>\n",
       "    <tr>\n",
       "      <th>0</th>\n",
       "      <td>RB50392</td>\n",
       "      <td>Washington</td>\n",
       "      <td>U</td>\n",
       "      <td>Master</td>\n",
       "      <td>NaN</td>\n",
       "      <td>0.0</td>\n",
       "      <td>1000.0</td>\n",
       "      <td>1/0/00</td>\n",
       "      <td>Personal Auto</td>\n",
       "      <td>Four-Door Car</td>\n",
       "      <td>2.704934</td>\n",
       "    </tr>\n",
       "    <tr>\n",
       "      <th>1</th>\n",
       "      <td>QZ44356</td>\n",
       "      <td>Arizona</td>\n",
       "      <td>F</td>\n",
       "      <td>Bachelor</td>\n",
       "      <td>697953.59</td>\n",
       "      <td>0.0</td>\n",
       "      <td>94.0</td>\n",
       "      <td>1/0/00</td>\n",
       "      <td>Personal Auto</td>\n",
       "      <td>Four-Door Car</td>\n",
       "      <td>1131.464935</td>\n",
       "    </tr>\n",
       "    <tr>\n",
       "      <th>2</th>\n",
       "      <td>AI49188</td>\n",
       "      <td>Nevada</td>\n",
       "      <td>F</td>\n",
       "      <td>Bachelor</td>\n",
       "      <td>1288743.17</td>\n",
       "      <td>48767.0</td>\n",
       "      <td>108.0</td>\n",
       "      <td>1/0/00</td>\n",
       "      <td>Personal Auto</td>\n",
       "      <td>Two-Door Car</td>\n",
       "      <td>566.472247</td>\n",
       "    </tr>\n",
       "    <tr>\n",
       "      <th>3</th>\n",
       "      <td>WW63253</td>\n",
       "      <td>California</td>\n",
       "      <td>M</td>\n",
       "      <td>Bachelor</td>\n",
       "      <td>764586.18</td>\n",
       "      <td>0.0</td>\n",
       "      <td>106.0</td>\n",
       "      <td>1/0/00</td>\n",
       "      <td>Corporate Auto</td>\n",
       "      <td>SUV</td>\n",
       "      <td>529.881344</td>\n",
       "    </tr>\n",
       "    <tr>\n",
       "      <th>4</th>\n",
       "      <td>GA49547</td>\n",
       "      <td>Washington</td>\n",
       "      <td>M</td>\n",
       "      <td>High School or Below</td>\n",
       "      <td>536307.65</td>\n",
       "      <td>36357.0</td>\n",
       "      <td>68.0</td>\n",
       "      <td>1/0/00</td>\n",
       "      <td>Personal Auto</td>\n",
       "      <td>Four-Door Car</td>\n",
       "      <td>17.269323</td>\n",
       "    </tr>\n",
       "  </tbody>\n",
       "</table>\n",
       "</div>"
      ],
      "text/plain": [
       "  customer_id       state gender             education  \\\n",
       "0     RB50392  Washington      U                Master   \n",
       "1     QZ44356     Arizona      F              Bachelor   \n",
       "2     AI49188      Nevada      F              Bachelor   \n",
       "3     WW63253  California      M              Bachelor   \n",
       "4     GA49547  Washington      M  High School or Below   \n",
       "\n",
       "   customer_life_time_value   income  monthly_premium open_complaints  \\\n",
       "0                       NaN      0.0           1000.0          1/0/00   \n",
       "1                 697953.59      0.0             94.0          1/0/00   \n",
       "2                1288743.17  48767.0            108.0          1/0/00   \n",
       "3                 764586.18      0.0            106.0          1/0/00   \n",
       "4                 536307.65  36357.0             68.0          1/0/00   \n",
       "\n",
       "      policy_type  vehicle_class  total_claim  \n",
       "0   Personal Auto  Four-Door Car     2.704934  \n",
       "1   Personal Auto  Four-Door Car  1131.464935  \n",
       "2   Personal Auto   Two-Door Car   566.472247  \n",
       "3  Corporate Auto            SUV   529.881344  \n",
       "4   Personal Auto  Four-Door Car    17.269323  "
      ]
     },
     "execution_count": 93,
     "metadata": {},
     "output_type": "execute_result"
    }
   ],
   "source": [
    "dataFrame[\"customer_life_time_value\"] = dataFrame[\"customer_life_time_value\"].str.rstrip(\"%\").astype(float)\n",
    "dataFrame.head()"
   ]
  },
  {
   "cell_type": "code",
   "execution_count": 94,
   "id": "38ba3d7b",
   "metadata": {},
   "outputs": [
    {
     "data": {
      "text/html": [
       "<div>\n",
       "<style scoped>\n",
       "    .dataframe tbody tr th:only-of-type {\n",
       "        vertical-align: middle;\n",
       "    }\n",
       "\n",
       "    .dataframe tbody tr th {\n",
       "        vertical-align: top;\n",
       "    }\n",
       "\n",
       "    .dataframe thead th {\n",
       "        text-align: right;\n",
       "    }\n",
       "</style>\n",
       "<table border=\"1\" class=\"dataframe\">\n",
       "  <thead>\n",
       "    <tr style=\"text-align: right;\">\n",
       "      <th></th>\n",
       "      <th>customer_id</th>\n",
       "      <th>state</th>\n",
       "      <th>gender</th>\n",
       "      <th>education</th>\n",
       "      <th>customer_life_time_value</th>\n",
       "      <th>income</th>\n",
       "      <th>monthly_premium</th>\n",
       "      <th>open_complaints</th>\n",
       "      <th>policy_type</th>\n",
       "      <th>vehicle_class</th>\n",
       "      <th>total_claim</th>\n",
       "    </tr>\n",
       "  </thead>\n",
       "  <tbody>\n",
       "    <tr>\n",
       "      <th>0</th>\n",
       "      <td>RB50392</td>\n",
       "      <td>Washington</td>\n",
       "      <td>U</td>\n",
       "      <td>Master</td>\n",
       "      <td>NaN</td>\n",
       "      <td>0.0</td>\n",
       "      <td>1000.0</td>\n",
       "      <td>1/0/00</td>\n",
       "      <td>Personal Auto</td>\n",
       "      <td>Four-Door Car</td>\n",
       "      <td>2.704934</td>\n",
       "    </tr>\n",
       "    <tr>\n",
       "      <th>1</th>\n",
       "      <td>QZ44356</td>\n",
       "      <td>Arizona</td>\n",
       "      <td>F</td>\n",
       "      <td>Bachelor</td>\n",
       "      <td>6979.5359</td>\n",
       "      <td>0.0</td>\n",
       "      <td>94.0</td>\n",
       "      <td>1/0/00</td>\n",
       "      <td>Personal Auto</td>\n",
       "      <td>Four-Door Car</td>\n",
       "      <td>1131.464935</td>\n",
       "    </tr>\n",
       "    <tr>\n",
       "      <th>2</th>\n",
       "      <td>AI49188</td>\n",
       "      <td>Nevada</td>\n",
       "      <td>F</td>\n",
       "      <td>Bachelor</td>\n",
       "      <td>12887.4317</td>\n",
       "      <td>48767.0</td>\n",
       "      <td>108.0</td>\n",
       "      <td>1/0/00</td>\n",
       "      <td>Personal Auto</td>\n",
       "      <td>Two-Door Car</td>\n",
       "      <td>566.472247</td>\n",
       "    </tr>\n",
       "    <tr>\n",
       "      <th>3</th>\n",
       "      <td>WW63253</td>\n",
       "      <td>California</td>\n",
       "      <td>M</td>\n",
       "      <td>Bachelor</td>\n",
       "      <td>7645.8618</td>\n",
       "      <td>0.0</td>\n",
       "      <td>106.0</td>\n",
       "      <td>1/0/00</td>\n",
       "      <td>Corporate Auto</td>\n",
       "      <td>SUV</td>\n",
       "      <td>529.881344</td>\n",
       "    </tr>\n",
       "    <tr>\n",
       "      <th>4</th>\n",
       "      <td>GA49547</td>\n",
       "      <td>Washington</td>\n",
       "      <td>M</td>\n",
       "      <td>High School or Below</td>\n",
       "      <td>5363.0765</td>\n",
       "      <td>36357.0</td>\n",
       "      <td>68.0</td>\n",
       "      <td>1/0/00</td>\n",
       "      <td>Personal Auto</td>\n",
       "      <td>Four-Door Car</td>\n",
       "      <td>17.269323</td>\n",
       "    </tr>\n",
       "  </tbody>\n",
       "</table>\n",
       "</div>"
      ],
      "text/plain": [
       "  customer_id       state gender             education  \\\n",
       "0     RB50392  Washington      U                Master   \n",
       "1     QZ44356     Arizona      F              Bachelor   \n",
       "2     AI49188      Nevada      F              Bachelor   \n",
       "3     WW63253  California      M              Bachelor   \n",
       "4     GA49547  Washington      M  High School or Below   \n",
       "\n",
       "   customer_life_time_value   income  monthly_premium open_complaints  \\\n",
       "0                       NaN      0.0           1000.0          1/0/00   \n",
       "1                 6979.5359      0.0             94.0          1/0/00   \n",
       "2                12887.4317  48767.0            108.0          1/0/00   \n",
       "3                 7645.8618      0.0            106.0          1/0/00   \n",
       "4                 5363.0765  36357.0             68.0          1/0/00   \n",
       "\n",
       "      policy_type  vehicle_class  total_claim  \n",
       "0   Personal Auto  Four-Door Car     2.704934  \n",
       "1   Personal Auto  Four-Door Car  1131.464935  \n",
       "2   Personal Auto   Two-Door Car   566.472247  \n",
       "3  Corporate Auto            SUV   529.881344  \n",
       "4   Personal Auto  Four-Door Car    17.269323  "
      ]
     },
     "execution_count": 94,
     "metadata": {},
     "output_type": "execute_result"
    }
   ],
   "source": [
    "#divide it with 100 for a better representation\n",
    "dataFrame[\"customer_life_time_value\"] = dataFrame[\"customer_life_time_value\"] / 100\n",
    "dataFrame.head()\n"
   ]
  },
  {
   "cell_type": "code",
   "execution_count": 95,
   "id": "4f615665",
   "metadata": {},
   "outputs": [
    {
     "data": {
      "text/plain": [
       "dtype('float64')"
      ]
     },
     "execution_count": 95,
     "metadata": {},
     "output_type": "execute_result"
    }
   ],
   "source": [
    "dataFrame[\"customer_life_time_value\"].dtype"
   ]
  },
  {
   "cell_type": "code",
   "execution_count": 96,
   "id": "c2b709f1",
   "metadata": {},
   "outputs": [
    {
     "data": {
      "text/plain": [
       "array(['Four-Door Car', 'Two-Door Car', 'SUV', 'Luxury', nan],\n",
       "      dtype=object)"
      ]
     },
     "execution_count": 96,
     "metadata": {},
     "output_type": "execute_result"
    }
   ],
   "source": [
    "# In vehicle class, \"Sports Car\", \"Luxury SUV\" and \"Luxury Car\" could be replaced by \"Luxury\"\n",
    "#same as with the state one ,doing a dictionary to replace it ,just only in this case the replacement is the same\n",
    "vehicle_replacements = {\n",
    "    \"Sports Car\" : \"Luxury\",\n",
    "    \"Luxury SUV\" : \"Luxury\",\n",
    "    \"Luxury Car\" : \"Luxury\"\n",
    "}\n",
    "\n",
    "# Replacing the abreviations\n",
    "dataFrame[\"vehicle_class\"] = dataFrame[\"vehicle_class\"].replace(vehicle_replacements)\n",
    "dataFrame[\"vehicle_class\"].unique()"
   ]
  },
  {
   "cell_type": "code",
   "execution_count": null,
   "id": "15544d79",
   "metadata": {},
   "outputs": [],
   "source": []
  },
  {
   "cell_type": "code",
   "execution_count": null,
   "id": "4c0a52e6",
   "metadata": {},
   "outputs": [],
   "source": []
  },
  {
   "cell_type": "markdown",
   "id": "85ff78ce-0174-4890-9db3-8048b7d7d2d0",
   "metadata": {
    "id": "85ff78ce-0174-4890-9db3-8048b7d7d2d0"
   },
   "source": [
    "## Exercise 3: Formatting data types"
   ]
  },
  {
   "cell_type": "markdown",
   "id": "b91c2cf8-79a2-4baf-9f65-ff2fb22270bd",
   "metadata": {
    "id": "b91c2cf8-79a2-4baf-9f65-ff2fb22270bd"
   },
   "source": [
    "The data types of many columns in the dataset appear to be incorrect. This could impact the accuracy of our analysis. To ensure accurate analysis, we need to correct the data types of these columns. Please update the data types of the columns as appropriate."
   ]
  },
  {
   "cell_type": "markdown",
   "id": "43e5d853-ff9e-43b2-9d92-aef2f78764f3",
   "metadata": {
    "id": "43e5d853-ff9e-43b2-9d92-aef2f78764f3"
   },
   "source": [
    "It is important to note that this exercise does not involve handling null values (NaN or None)."
   ]
  },
  {
   "cell_type": "markdown",
   "id": "329ca691-9196-4419-8969-3596746237a1",
   "metadata": {
    "id": "329ca691-9196-4419-8969-3596746237a1"
   },
   "source": [
    "*Hint*:\n",
    "- *Customer lifetime value should be numeric*\n",
    "- *Number of open complaints has an incorrect format. Look at the different values it takes with `unique()` and take the middle value. As an example, 1/5/00 should be 5. Number of open complaints is a string - remember you can use `split()` to deal with it and take the number you need. Finally, since it should be numeric, cast the column to be in its proper type.*"
   ]
  },
  {
   "cell_type": "code",
   "execution_count": 97,
   "id": "eb8f5991-73e9-405f-bf1c-6b7c589379a9",
   "metadata": {
    "id": "eb8f5991-73e9-405f-bf1c-6b7c589379a9"
   },
   "outputs": [],
   "source": [
    "# Your code here"
   ]
  },
  {
   "cell_type": "code",
   "execution_count": 98,
   "id": "16c1cbd6",
   "metadata": {},
   "outputs": [
    {
     "data": {
      "text/plain": [
       "array(['1/0/00', '1/2/00', '1/1/00', '1/3/00', '1/5/00', '1/4/00', nan],\n",
       "      dtype=object)"
      ]
     },
     "execution_count": 98,
     "metadata": {},
     "output_type": "execute_result"
    }
   ],
   "source": [
    "# change number of open complaints \n",
    "# first split the string that we get returned to only take the middle number\n",
    "dataFrame[\"open_complaints\"].unique()"
   ]
  },
  {
   "cell_type": "code",
   "execution_count": 99,
   "id": "f9a7c6ee",
   "metadata": {},
   "outputs": [
    {
     "data": {
      "text/plain": [
       "array(['0', '2', '1', '3', '5', '4', nan], dtype=object)"
      ]
     },
     "execution_count": 99,
     "metadata": {},
     "output_type": "execute_result"
    }
   ],
   "source": [
    "#i will first get the middle element and put it in a variable.\n",
    "dataFrame[\"open_complaints\"] = dataFrame[\"open_complaints\"].str.split(\"/\").str.get(1)\n",
    "dataFrame[\"open_complaints\"].unique()"
   ]
  },
  {
   "cell_type": "code",
   "execution_count": 100,
   "id": "d11e9ad1",
   "metadata": {},
   "outputs": [
    {
     "data": {
      "text/plain": [
       "dtype('float64')"
      ]
     },
     "execution_count": 100,
     "metadata": {},
     "output_type": "execute_result"
    }
   ],
   "source": [
    "#and now make it numeric\n",
    "dataFrame[\"open_complaints\"] = pd.to_numeric(dataFrame[\"open_complaints\"], errors = \"coerce\")\n",
    "dataFrame[\"open_complaints\"].dtype\n"
   ]
  },
  {
   "cell_type": "markdown",
   "id": "14c52e28-2d0c-4dd2-8bd5-3476e34fadc1",
   "metadata": {
    "id": "14c52e28-2d0c-4dd2-8bd5-3476e34fadc1"
   },
   "source": [
    "## Exercise 4: Dealing with Null values"
   ]
  },
  {
   "cell_type": "markdown",
   "id": "34b9a20f-7d32-4417-975e-1b4dfb0e16cd",
   "metadata": {
    "id": "34b9a20f-7d32-4417-975e-1b4dfb0e16cd"
   },
   "source": [
    "Identify any columns with null or missing values. Identify how many null values each column has. You can use the `isnull()` function in pandas to find columns with null values.\n",
    "\n",
    "Decide on a strategy for handling the null values. There are several options, including:\n",
    "\n",
    "- Drop the rows or columns with null values\n",
    "- Fill the null values with a specific value (such as the column mean or median for numerical variables, and mode for categorical variables)\n",
    "- Fill the null values with the previous or next value in the column\n",
    "- Fill the null values based on a more complex algorithm or model (note: we haven't covered this yet)\n",
    "\n",
    "Implement your chosen strategy to handle the null values. You can use the `fillna()` function in pandas to fill null values or `dropna()` function to drop null values.\n",
    "\n",
    "Verify that your strategy has successfully handled the null values. You can use the `isnull()` function again to check if there are still null values in the dataset.\n",
    "\n",
    "Remember to document your process and explain your reasoning for choosing a particular strategy for handling null values.\n",
    "\n",
    "After formatting data types, as a last step, convert all the numeric variables to integers using `applymap()`."
   ]
  },
  {
   "cell_type": "code",
   "execution_count": 101,
   "id": "e4f025ea",
   "metadata": {},
   "outputs": [
    {
     "data": {
      "text/plain": [
       "customer_id                  object\n",
       "state                        object\n",
       "gender                       object\n",
       "education                    object\n",
       "customer_life_time_value    float64\n",
       "income                      float64\n",
       "monthly_premium             float64\n",
       "open_complaints             float64\n",
       "policy_type                  object\n",
       "vehicle_class                object\n",
       "total_claim                 float64\n",
       "dtype: object"
      ]
     },
     "execution_count": 101,
     "metadata": {},
     "output_type": "execute_result"
    }
   ],
   "source": [
    "dataFrame.dtypes\n"
   ]
  },
  {
   "cell_type": "markdown",
   "id": "3468f95e",
   "metadata": {},
   "source": [
    "### So i couldnt resist the tentation on going **FULL FANCY** with the solution over here since u let us the oppportunity to do so.\n",
    "I first read about all the posibilities and i found some ways to \"predict\" values ,first tried with \"linear regresion\" which \n",
    "failed misserably since it uses other columns to predic data in the current column,and we dont have such a big correlation between columns\n",
    "\n",
    "Then i tried this kNN method imputation which what it does is to take a number of \"Neighbours\" and use them to predict a NaN value,i also tried to do it with categorical columns but didnt worked so instead for those ones i just used \"the most common value\" strategy.\n",
    "\n",
    "Just to be clear i looked for all the code in google found snipets of code here and there and used them on here,so its not my work.\n",
    "the source data is principally from https://medium.com/@kyawsawhtoon/a-guide-to-knn-imputation-95e2dc496e\n",
    "also this one https://scikit-learn.org/stable/modules/generated/sklearn.impute.KNNImputer.html\n",
    "and wont gonna lie i also used the one who shall not be named,so just call him how i do it ,Gepetto.\n"
   ]
  },
  {
   "cell_type": "code",
   "execution_count": 102,
   "id": "abb1faa7",
   "metadata": {
    "scrolled": true
   },
   "outputs": [
    {
     "name": "stdout",
     "output_type": "stream",
     "text": [
      "Requirement already satisfied: scikit-learn in c:\\users\\admin\\appdata\\local\\programs\\python\\python310\\lib\\site-packages (1.3.1)\n",
      "Requirement already satisfied: scipy>=1.5.0 in c:\\users\\admin\\appdata\\local\\programs\\python\\python310\\lib\\site-packages (from scikit-learn) (1.10.0)\n",
      "Requirement already satisfied: numpy<2.0,>=1.17.3 in c:\\users\\admin\\appdata\\local\\programs\\python\\python310\\lib\\site-packages (from scikit-learn) (1.24.1)\n",
      "Requirement already satisfied: joblib>=1.1.1 in c:\\users\\admin\\appdata\\local\\programs\\python\\python310\\lib\\site-packages (from scikit-learn) (1.3.2)\n",
      "Requirement already satisfied: threadpoolctl>=2.0.0 in c:\\users\\admin\\appdata\\local\\programs\\python\\python310\\lib\\site-packages (from scikit-learn) (3.2.0)\n"
     ]
    },
    {
     "name": "stderr",
     "output_type": "stream",
     "text": [
      "\n",
      "[notice] A new release of pip is available: 23.0 -> 23.3\n",
      "[notice] To update, run: python.exe -m pip install --upgrade pip\n"
     ]
    }
   ],
   "source": [
    "!pip install scikit-learn\n"
   ]
  },
  {
   "cell_type": "code",
   "execution_count": 110,
   "id": "f184fc35-7831-4836-a0a5-e7f99e01b40e",
   "metadata": {
    "id": "f184fc35-7831-4836-a0a5-e7f99e01b40e"
   },
   "outputs": [
    {
     "name": "stderr",
     "output_type": "stream",
     "text": [
      "C:\\Users\\Admin\\AppData\\Local\\Programs\\Python\\Python310\\lib\\site-packages\\sklearn\\preprocessing\\_encoders.py:975: FutureWarning: `sparse` was renamed to `sparse_output` in version 1.2 and will be removed in 1.4. `sparse_output` is ignored unless you leave `sparse` to its default value.\n",
      "  warnings.warn(\n"
     ]
    }
   ],
   "source": [
    "# Your code here\n",
    "# Import sklearn needed modules\n",
    "from sklearn.impute import KNNImputer\n",
    "from sklearn.preprocessing import OneHotEncoder\n",
    "from sklearn.impute import SimpleImputer\n",
    "\n",
    "# Split the data into numerical and categorical columns into 2 lists\n",
    "numerical_cols = dataFrame.select_dtypes(exclude=[\"object\"]).columns.tolist()\n",
    "numerical_cols.remove(\"open_complaints\")  # Remove \"open_complaints\" from numerical columns\n",
    "\n",
    "categorical_cols = dataFrame.select_dtypes(include=[\"object\"]).columns.tolist()\n",
    "categorical_cols.append(\"open_complaints\")  # Add \"open_complaints\" to categorical columns\n",
    "\n",
    "# Initialize the encoder\n",
    "# Quen Erin : \"Gabriel wtf is OneHotEncoder?\"\n",
    "# Gabriel : \"Transforms each category list in a ckecklist format ,since its easier for the machine to work with numbers,\n",
    "#so if i have 3 crayons ,red ,blue and green that would be transformed in red being 1 -0 -0,blue in 0-1-1,and green in 0-0-0\n",
    "#that would be the case if we had 1 red crayon and 2 blue crayons\"\n",
    "encoder = OneHotEncoder(drop=\"first\", sparse=False)\n",
    "\n",
    "# Fit the encoder and transform the categorical columns (copied this from a website.)\n",
    "df_encoded = encoder.fit_transform(dataFrame[categorical_cols])\n",
    "df_encoded = pd.DataFrame(df_encoded, columns=encoder.get_feature_names_out(categorical_cols))\n",
    "\n",
    "# Combine the encoded columns with the numerical columns\n",
    "df_combined = pd.concat([dataFrame[numerical_cols].reset_index(drop=True), df_encoded], axis=1)\n",
    "\n",
    "# Apply k-NN imputation to ONLY numerical columns\n",
    "numerical_imputer = KNNImputer(n_neighbors=50)\n",
    "df_imputed_numerical = numerical_imputer.fit_transform(df_combined[numerical_cols])\n",
    "df_imputed_numerical = pd.DataFrame(df_imputed_numerical, columns=numerical_cols)\n",
    "\n",
    "# Impute categorical columns using the most frequent category\n",
    "categorical_imputer = SimpleImputer(strategy='most_frequent')\n",
    "df_imputed_categorical = categorical_imputer.fit_transform(dataFrame[categorical_cols])\n",
    "df_imputed_categorical = pd.DataFrame(df_imputed_categorical, columns=categorical_cols)\n",
    "\n",
    "# Combine the imputed numerical and categorical data\n",
    "df_imputed = pd.concat([df_imputed_numerical, df_imputed_categorical], axis=1)\n",
    "\n",
    "# Now, you have an imputed dataframe, isn't that amazing?\n",
    "df_imputed = df_imputed[dataFrame.columns]  # To ensure original column order"
   ]
  },
  {
   "cell_type": "code",
   "execution_count": null,
   "id": "7fddd65d",
   "metadata": {
    "scrolled": true
   },
   "outputs": [],
   "source": []
  },
  {
   "cell_type": "code",
   "execution_count": 111,
   "id": "5f2430a8",
   "metadata": {},
   "outputs": [
    {
     "data": {
      "text/html": [
       "<div>\n",
       "<style scoped>\n",
       "    .dataframe tbody tr th:only-of-type {\n",
       "        vertical-align: middle;\n",
       "    }\n",
       "\n",
       "    .dataframe tbody tr th {\n",
       "        vertical-align: top;\n",
       "    }\n",
       "\n",
       "    .dataframe thead th {\n",
       "        text-align: right;\n",
       "    }\n",
       "</style>\n",
       "<table border=\"1\" class=\"dataframe\">\n",
       "  <thead>\n",
       "    <tr style=\"text-align: right;\">\n",
       "      <th></th>\n",
       "      <th>customer_id</th>\n",
       "      <th>state</th>\n",
       "      <th>gender</th>\n",
       "      <th>education</th>\n",
       "      <th>customer_life_time_value</th>\n",
       "      <th>income</th>\n",
       "      <th>monthly_premium</th>\n",
       "      <th>open_complaints</th>\n",
       "      <th>policy_type</th>\n",
       "      <th>vehicle_class</th>\n",
       "      <th>total_claim</th>\n",
       "    </tr>\n",
       "  </thead>\n",
       "  <tbody>\n",
       "    <tr>\n",
       "      <th>0</th>\n",
       "      <td>RB50392</td>\n",
       "      <td>Washington</td>\n",
       "      <td>U</td>\n",
       "      <td>Master</td>\n",
       "      <td>6306.604270</td>\n",
       "      <td>0.000000</td>\n",
       "      <td>1000.00000</td>\n",
       "      <td>0.0</td>\n",
       "      <td>Personal Auto</td>\n",
       "      <td>Four-Door Car</td>\n",
       "      <td>2.704934</td>\n",
       "    </tr>\n",
       "    <tr>\n",
       "      <th>1</th>\n",
       "      <td>QZ44356</td>\n",
       "      <td>Arizona</td>\n",
       "      <td>F</td>\n",
       "      <td>Bachelor</td>\n",
       "      <td>6979.535900</td>\n",
       "      <td>0.000000</td>\n",
       "      <td>94.00000</td>\n",
       "      <td>0.0</td>\n",
       "      <td>Personal Auto</td>\n",
       "      <td>Four-Door Car</td>\n",
       "      <td>1131.464935</td>\n",
       "    </tr>\n",
       "    <tr>\n",
       "      <th>2</th>\n",
       "      <td>AI49188</td>\n",
       "      <td>Nevada</td>\n",
       "      <td>F</td>\n",
       "      <td>Bachelor</td>\n",
       "      <td>12887.431700</td>\n",
       "      <td>48767.000000</td>\n",
       "      <td>108.00000</td>\n",
       "      <td>0.0</td>\n",
       "      <td>Personal Auto</td>\n",
       "      <td>Two-Door Car</td>\n",
       "      <td>566.472247</td>\n",
       "    </tr>\n",
       "    <tr>\n",
       "      <th>3</th>\n",
       "      <td>WW63253</td>\n",
       "      <td>California</td>\n",
       "      <td>M</td>\n",
       "      <td>Bachelor</td>\n",
       "      <td>7645.861800</td>\n",
       "      <td>0.000000</td>\n",
       "      <td>106.00000</td>\n",
       "      <td>0.0</td>\n",
       "      <td>Corporate Auto</td>\n",
       "      <td>SUV</td>\n",
       "      <td>529.881344</td>\n",
       "    </tr>\n",
       "    <tr>\n",
       "      <th>4</th>\n",
       "      <td>GA49547</td>\n",
       "      <td>Washington</td>\n",
       "      <td>M</td>\n",
       "      <td>High School or Below</td>\n",
       "      <td>5363.076500</td>\n",
       "      <td>36357.000000</td>\n",
       "      <td>68.00000</td>\n",
       "      <td>0.0</td>\n",
       "      <td>Personal Auto</td>\n",
       "      <td>Four-Door Car</td>\n",
       "      <td>17.269323</td>\n",
       "    </tr>\n",
       "    <tr>\n",
       "      <th>...</th>\n",
       "      <td>...</td>\n",
       "      <td>...</td>\n",
       "      <td>...</td>\n",
       "      <td>...</td>\n",
       "      <td>...</td>\n",
       "      <td>...</td>\n",
       "      <td>...</td>\n",
       "      <td>...</td>\n",
       "      <td>...</td>\n",
       "      <td>...</td>\n",
       "      <td>...</td>\n",
       "    </tr>\n",
       "    <tr>\n",
       "      <th>4003</th>\n",
       "      <td>AA71604</td>\n",
       "      <td>California</td>\n",
       "      <td>U</td>\n",
       "      <td>Bachelor</td>\n",
       "      <td>7936.902593</td>\n",
       "      <td>39295.701214</td>\n",
       "      <td>193.23436</td>\n",
       "      <td>0.0</td>\n",
       "      <td>Personal Auto</td>\n",
       "      <td>Four-Door Car</td>\n",
       "      <td>404.986909</td>\n",
       "    </tr>\n",
       "    <tr>\n",
       "      <th>4004</th>\n",
       "      <td>AA71604</td>\n",
       "      <td>California</td>\n",
       "      <td>U</td>\n",
       "      <td>Bachelor</td>\n",
       "      <td>7936.902593</td>\n",
       "      <td>39295.701214</td>\n",
       "      <td>193.23436</td>\n",
       "      <td>0.0</td>\n",
       "      <td>Personal Auto</td>\n",
       "      <td>Four-Door Car</td>\n",
       "      <td>404.986909</td>\n",
       "    </tr>\n",
       "    <tr>\n",
       "      <th>4005</th>\n",
       "      <td>AA71604</td>\n",
       "      <td>California</td>\n",
       "      <td>U</td>\n",
       "      <td>Bachelor</td>\n",
       "      <td>7936.902593</td>\n",
       "      <td>39295.701214</td>\n",
       "      <td>193.23436</td>\n",
       "      <td>0.0</td>\n",
       "      <td>Personal Auto</td>\n",
       "      <td>Four-Door Car</td>\n",
       "      <td>404.986909</td>\n",
       "    </tr>\n",
       "    <tr>\n",
       "      <th>4006</th>\n",
       "      <td>AA71604</td>\n",
       "      <td>California</td>\n",
       "      <td>U</td>\n",
       "      <td>Bachelor</td>\n",
       "      <td>7936.902593</td>\n",
       "      <td>39295.701214</td>\n",
       "      <td>193.23436</td>\n",
       "      <td>0.0</td>\n",
       "      <td>Personal Auto</td>\n",
       "      <td>Four-Door Car</td>\n",
       "      <td>404.986909</td>\n",
       "    </tr>\n",
       "    <tr>\n",
       "      <th>4007</th>\n",
       "      <td>AA71604</td>\n",
       "      <td>California</td>\n",
       "      <td>U</td>\n",
       "      <td>Bachelor</td>\n",
       "      <td>7936.902593</td>\n",
       "      <td>39295.701214</td>\n",
       "      <td>193.23436</td>\n",
       "      <td>0.0</td>\n",
       "      <td>Personal Auto</td>\n",
       "      <td>Four-Door Car</td>\n",
       "      <td>404.986909</td>\n",
       "    </tr>\n",
       "  </tbody>\n",
       "</table>\n",
       "<p>4008 rows × 11 columns</p>\n",
       "</div>"
      ],
      "text/plain": [
       "     customer_id       state gender             education  \\\n",
       "0        RB50392  Washington      U                Master   \n",
       "1        QZ44356     Arizona      F              Bachelor   \n",
       "2        AI49188      Nevada      F              Bachelor   \n",
       "3        WW63253  California      M              Bachelor   \n",
       "4        GA49547  Washington      M  High School or Below   \n",
       "...          ...         ...    ...                   ...   \n",
       "4003     AA71604  California      U              Bachelor   \n",
       "4004     AA71604  California      U              Bachelor   \n",
       "4005     AA71604  California      U              Bachelor   \n",
       "4006     AA71604  California      U              Bachelor   \n",
       "4007     AA71604  California      U              Bachelor   \n",
       "\n",
       "      customer_life_time_value        income  monthly_premium open_complaints  \\\n",
       "0                  6306.604270      0.000000       1000.00000             0.0   \n",
       "1                  6979.535900      0.000000         94.00000             0.0   \n",
       "2                 12887.431700  48767.000000        108.00000             0.0   \n",
       "3                  7645.861800      0.000000        106.00000             0.0   \n",
       "4                  5363.076500  36357.000000         68.00000             0.0   \n",
       "...                        ...           ...              ...             ...   \n",
       "4003               7936.902593  39295.701214        193.23436             0.0   \n",
       "4004               7936.902593  39295.701214        193.23436             0.0   \n",
       "4005               7936.902593  39295.701214        193.23436             0.0   \n",
       "4006               7936.902593  39295.701214        193.23436             0.0   \n",
       "4007               7936.902593  39295.701214        193.23436             0.0   \n",
       "\n",
       "         policy_type  vehicle_class  total_claim  \n",
       "0      Personal Auto  Four-Door Car     2.704934  \n",
       "1      Personal Auto  Four-Door Car  1131.464935  \n",
       "2      Personal Auto   Two-Door Car   566.472247  \n",
       "3     Corporate Auto            SUV   529.881344  \n",
       "4      Personal Auto  Four-Door Car    17.269323  \n",
       "...              ...            ...          ...  \n",
       "4003   Personal Auto  Four-Door Car   404.986909  \n",
       "4004   Personal Auto  Four-Door Car   404.986909  \n",
       "4005   Personal Auto  Four-Door Car   404.986909  \n",
       "4006   Personal Auto  Four-Door Car   404.986909  \n",
       "4007   Personal Auto  Four-Door Car   404.986909  \n",
       "\n",
       "[4008 rows x 11 columns]"
      ]
     },
     "execution_count": 111,
     "metadata": {},
     "output_type": "execute_result"
    }
   ],
   "source": [
    "df_imputed"
   ]
  },
  {
   "cell_type": "markdown",
   "id": "98416351-e999-4156-9834-9b00a311adfa",
   "metadata": {
    "id": "98416351-e999-4156-9834-9b00a311adfa"
   },
   "source": [
    "## Exercise 5: Dealing with duplicates"
   ]
  },
  {
   "cell_type": "markdown",
   "id": "ea0816a7-a18e-4d4c-b667-a8452a800bd1",
   "metadata": {
    "id": "ea0816a7-a18e-4d4c-b667-a8452a800bd1"
   },
   "source": [
    "Use the `.duplicated()` method to identify any duplicate rows in the dataframe.\n",
    "\n",
    "Decide on a strategy for handling the duplicates. Options include:\n",
    "- Dropping all duplicate rows\n",
    "- Keeping only the first occurrence of each duplicated row\n",
    "- Keeping only the last occurrence of each duplicated row\n",
    "- Dropping duplicates based on a subset of columns\n",
    "- Dropping duplicates based on a specific column\n",
    "\n",
    "Implement your chosen strategy using the `drop_duplicates()` function.\n",
    "\n",
    "Verify that your strategy has successfully handled the duplicates by checking for duplicates again using `.duplicated()`.\n",
    "\n",
    "Remember to document your process and explain your reasoning for choosing a particular strategy for handling duplicates.\n",
    "\n",
    "Save the cleaned dataset to a new CSV file.\n",
    "\n",
    "*Hint*: *after dropping duplicates, reset the index to ensure consistency*."
   ]
  },
  {
   "cell_type": "code",
   "execution_count": 112,
   "id": "1929362c-47ed-47cb-baca-358b78d401a0",
   "metadata": {
    "id": "1929362c-47ed-47cb-baca-358b78d401a0"
   },
   "outputs": [
    {
     "data": {
      "text/plain": [
       "0       False\n",
       "1       False\n",
       "2       False\n",
       "3       False\n",
       "4       False\n",
       "        ...  \n",
       "4003     True\n",
       "4004     True\n",
       "4005     True\n",
       "4006     True\n",
       "4007     True\n",
       "Length: 4008, dtype: bool"
      ]
     },
     "execution_count": 112,
     "metadata": {},
     "output_type": "execute_result"
    }
   ],
   "source": [
    "# Your code here\n",
    "df_imputed.duplicated()"
   ]
  },
  {
   "cell_type": "code",
   "execution_count": 113,
   "id": "50983f82",
   "metadata": {},
   "outputs": [
    {
     "data": {
      "text/plain": [
       "0       False\n",
       "1       False\n",
       "2       False\n",
       "3       False\n",
       "4       False\n",
       "        ...  \n",
       "1067    False\n",
       "1068    False\n",
       "1069    False\n",
       "1070    False\n",
       "1071    False\n",
       "Length: 1072, dtype: bool"
      ]
     },
     "execution_count": 113,
     "metadata": {},
     "output_type": "execute_result"
    }
   ],
   "source": [
    "df_imputed = df_imputed.drop_duplicates(keep='first')\n",
    "df_imputed.duplicated()"
   ]
  },
  {
   "cell_type": "code",
   "execution_count": null,
   "id": "dd0db040",
   "metadata": {
    "scrolled": true
   },
   "outputs": [],
   "source": [
    "#after breaking my head for a while i saw that there is a huge problem in the data we are given at least in my opinion,it seems that we are given 4k rows in total, but if we remove duplicateds we get to have only 1k,so we are given 3k rows full of nothing.\n",
    "#i dont know if thats a normal outcome or the data is just like that\n",
    "# after manually watching the data i see that indeed there are lot of rows full with nothing,only \",\"\n",
    "#thats why i think removing and letting the first one is the best approach"
   ]
  },
  {
   "cell_type": "code",
   "execution_count": null,
   "id": "6c113fb4",
   "metadata": {},
   "outputs": [],
   "source": []
  },
  {
   "cell_type": "markdown",
   "id": "60840701-4783-40e2-b4d8-55303f9100c9",
   "metadata": {
    "id": "60840701-4783-40e2-b4d8-55303f9100c9"
   },
   "source": [
    "# Bonus: Challenge 2: creating functions on a separate `py` file"
   ]
  },
  {
   "cell_type": "markdown",
   "id": "9d1adb3a-17cf-4899-8041-da21a4337fb4",
   "metadata": {
    "id": "9d1adb3a-17cf-4899-8041-da21a4337fb4"
   },
   "source": [
    "Put all the data cleaning and formatting steps into functions, and create a main function that performs all the cleaning and formatting.\n",
    "\n",
    "Write these functions in separate .py file(s). By putting these steps into functions, we can make the code more modular and easier to maintain."
   ]
  },
  {
   "cell_type": "markdown",
   "id": "0e170dc2-b62c-417a-8248-e63ed18a70c4",
   "metadata": {
    "id": "0e170dc2-b62c-417a-8248-e63ed18a70c4"
   },
   "source": [
    "*Hint: autoreload module is a utility module in Python that allows you to automatically reload modules in the current session when changes are made to the source code. This can be useful in situations where you are actively developing code and want to see the effects of changes you make without having to constantly restart the Python interpreter or Jupyter Notebook kernel.*"
   ]
  },
  {
   "cell_type": "code",
   "execution_count": null,
   "id": "a52c6dfc-cd11-4d01-bda4-f719fa33e9a4",
   "metadata": {
    "id": "a52c6dfc-cd11-4d01-bda4-f719fa33e9a4"
   },
   "outputs": [],
   "source": [
    "# Your code here\n",
    "\n",
    "#im afraid i waste too much time indoing the fancy kNN stuff and didnt get enough\n",
    "#time to do this,but bonus 3 seems fast and easy so i will make that one"
   ]
  },
  {
   "cell_type": "markdown",
   "id": "80f846bb-3f5e-4ca2-96c0-900728daca5a",
   "metadata": {
    "id": "80f846bb-3f5e-4ca2-96c0-900728daca5a",
    "tags": []
   },
   "source": [
    "# Bonus: Challenge 3: Analyzing Clean and Formated Data"
   ]
  },
  {
   "cell_type": "markdown",
   "id": "9021630e-cc90-446c-b5bd-264d6c864207",
   "metadata": {
    "id": "9021630e-cc90-446c-b5bd-264d6c864207"
   },
   "source": [
    "You have been tasked with analyzing the data to identify potential areas for improving customer retention and profitability. Your goal is to identify customers with a high policy claim amount and a low customer lifetime value.\n",
    "\n",
    "In the Pandas Lab, we only looked at high policy claim amounts because we couldn't look into low customer lifetime values. If we had tried to work with that column, we wouldn't have been able to because customer lifetime value wasn't clean and in its proper format. So after cleaning and formatting the data, let's get some more interesting insights!\n",
    "\n",
    "Instructions:\n",
    "\n",
    "- Review the statistics again for total claim amount and customer lifetime value to gain an understanding of the data.\n",
    "- To identify potential areas for improving customer retention and profitability, we want to focus on customers with a high policy claim amount and a low customer lifetime value. Consider customers with a high policy claim amount to be those in the top 25% of the total claim amount, and clients with a low customer lifetime value to be those in the bottom 25% of the customer lifetime value. Create a pandas DataFrame object that contains information about customers with a policy claim amount greater than the 75th percentile and a customer lifetime value in the bottom 25th percentile.\n",
    "- Use DataFrame methods to calculate summary statistics about the high policy claim amount and low customer lifetime value data. To do so, select both columns of the dataframe simultaneously and pass it to the `.describe()` method. This will give you descriptive statistics, such as mean, median, standard deviation, minimum and maximum values for both columns at the same time, allowing you to compare and analyze their characteristics."
   ]
  },
  {
   "cell_type": "code",
   "execution_count": 141,
   "id": "211e82b5-461a-4d6f-8a23-4deccb84173c",
   "metadata": {
    "id": "211e82b5-461a-4d6f-8a23-4deccb84173c"
   },
   "outputs": [
    {
     "data": {
      "text/html": [
       "<div>\n",
       "<style scoped>\n",
       "    .dataframe tbody tr th:only-of-type {\n",
       "        vertical-align: middle;\n",
       "    }\n",
       "\n",
       "    .dataframe tbody tr th {\n",
       "        vertical-align: top;\n",
       "    }\n",
       "\n",
       "    .dataframe thead th {\n",
       "        text-align: right;\n",
       "    }\n",
       "</style>\n",
       "<table border=\"1\" class=\"dataframe\">\n",
       "  <thead>\n",
       "    <tr style=\"text-align: right;\">\n",
       "      <th></th>\n",
       "      <th>customer_life_time_value</th>\n",
       "      <th>income</th>\n",
       "      <th>monthly_premium</th>\n",
       "      <th>open_complaints</th>\n",
       "      <th>total_claim</th>\n",
       "    </tr>\n",
       "  </thead>\n",
       "  <tbody>\n",
       "    <tr>\n",
       "      <th>count</th>\n",
       "      <td>40.00000</td>\n",
       "      <td>40.000000</td>\n",
       "      <td>40.000000</td>\n",
       "      <td>40.000000</td>\n",
       "      <td>40.000000</td>\n",
       "    </tr>\n",
       "    <tr>\n",
       "      <th>mean</th>\n",
       "      <td>3415.77910</td>\n",
       "      <td>16535.400000</td>\n",
       "      <td>93.500000</td>\n",
       "      <td>0.550000</td>\n",
       "      <td>723.776577</td>\n",
       "    </tr>\n",
       "    <tr>\n",
       "      <th>std</th>\n",
       "      <td>569.21472</td>\n",
       "      <td>23867.913398</td>\n",
       "      <td>16.054395</td>\n",
       "      <td>1.218448</td>\n",
       "      <td>149.280606</td>\n",
       "    </tr>\n",
       "    <tr>\n",
       "      <th>min</th>\n",
       "      <td>2287.59690</td>\n",
       "      <td>0.000000</td>\n",
       "      <td>63.000000</td>\n",
       "      <td>0.000000</td>\n",
       "      <td>537.600000</td>\n",
       "    </tr>\n",
       "    <tr>\n",
       "      <th>25%</th>\n",
       "      <td>3042.20875</td>\n",
       "      <td>0.000000</td>\n",
       "      <td>86.000000</td>\n",
       "      <td>0.000000</td>\n",
       "      <td>633.378846</td>\n",
       "    </tr>\n",
       "    <tr>\n",
       "      <th>50%</th>\n",
       "      <td>3659.95370</td>\n",
       "      <td>0.000000</td>\n",
       "      <td>98.000000</td>\n",
       "      <td>0.000000</td>\n",
       "      <td>685.284189</td>\n",
       "    </tr>\n",
       "    <tr>\n",
       "      <th>75%</th>\n",
       "      <td>3873.64700</td>\n",
       "      <td>28142.000000</td>\n",
       "      <td>105.000000</td>\n",
       "      <td>0.000000</td>\n",
       "      <td>799.200000</td>\n",
       "    </tr>\n",
       "    <tr>\n",
       "      <th>max</th>\n",
       "      <td>4023.81440</td>\n",
       "      <td>92600.000000</td>\n",
       "      <td>117.000000</td>\n",
       "      <td>5.000000</td>\n",
       "      <td>1185.988301</td>\n",
       "    </tr>\n",
       "  </tbody>\n",
       "</table>\n",
       "</div>"
      ],
      "text/plain": [
       "       customer_life_time_value        income  monthly_premium  \\\n",
       "count                  40.00000     40.000000        40.000000   \n",
       "mean                 3415.77910  16535.400000        93.500000   \n",
       "std                   569.21472  23867.913398        16.054395   \n",
       "min                  2287.59690      0.000000        63.000000   \n",
       "25%                  3042.20875      0.000000        86.000000   \n",
       "50%                  3659.95370      0.000000        98.000000   \n",
       "75%                  3873.64700  28142.000000       105.000000   \n",
       "max                  4023.81440  92600.000000       117.000000   \n",
       "\n",
       "       open_complaints  total_claim  \n",
       "count        40.000000    40.000000  \n",
       "mean          0.550000   723.776577  \n",
       "std           1.218448   149.280606  \n",
       "min           0.000000   537.600000  \n",
       "25%           0.000000   633.378846  \n",
       "50%           0.000000   685.284189  \n",
       "75%           0.000000   799.200000  \n",
       "max           5.000000  1185.988301  "
      ]
     },
     "execution_count": 141,
     "metadata": {},
     "output_type": "execute_result"
    }
   ],
   "source": [
    "# Your code here\n",
    "#calculate the 75h percentile\n",
    "high_claim_threshold = dataFrame[\"total_claim\"].quantile(0.75)\n",
    "\n",
    "#calculate the 25th percentile\n",
    "low_customer_lifetime_value_threshold=dataFrame[\"customer_life_time_value\"].quantile(0.25)\n",
    "\n",
    "#filter the dataframe\n",
    "high_claim_low_value_customer = dataFrame[(dataFrame[\"total_claim\"] > high_claim_threshold) & (dataFrame[\"customer_life_time_value\"] < low_customer_lifetime_value_threshold)]\n",
    "\n",
    "high_claim_low_value_customer.describe()"
   ]
  },
  {
   "cell_type": "markdown",
   "id": "2faa3a29",
   "metadata": {},
   "source": [
    "# Lab | Customer Analysis Round 3"
   ]
  },
  {
   "cell_type": "markdown",
   "id": "387565a4",
   "metadata": {},
   "source": [
    "### EDA (Exploratory Data Analysis) - Complete the following tasks to explore the data:\n"
   ]
  },
  {
   "cell_type": "code",
   "execution_count": 119,
   "id": "7f32a368",
   "metadata": {},
   "outputs": [
    {
     "data": {
      "text/html": [
       "<div>\n",
       "<style scoped>\n",
       "    .dataframe tbody tr th:only-of-type {\n",
       "        vertical-align: middle;\n",
       "    }\n",
       "\n",
       "    .dataframe tbody tr th {\n",
       "        vertical-align: top;\n",
       "    }\n",
       "\n",
       "    .dataframe thead th {\n",
       "        text-align: right;\n",
       "    }\n",
       "</style>\n",
       "<table border=\"1\" class=\"dataframe\">\n",
       "  <thead>\n",
       "    <tr style=\"text-align: right;\">\n",
       "      <th></th>\n",
       "      <th>customer_id</th>\n",
       "      <th>state</th>\n",
       "      <th>gender</th>\n",
       "      <th>education</th>\n",
       "      <th>customer_life_time_value</th>\n",
       "      <th>income</th>\n",
       "      <th>monthly_premium</th>\n",
       "      <th>open_complaints</th>\n",
       "      <th>policy_type</th>\n",
       "      <th>vehicle_class</th>\n",
       "      <th>total_claim</th>\n",
       "    </tr>\n",
       "  </thead>\n",
       "  <tbody>\n",
       "    <tr>\n",
       "      <th>0</th>\n",
       "      <td>RB50392</td>\n",
       "      <td>Washington</td>\n",
       "      <td>U</td>\n",
       "      <td>Master</td>\n",
       "      <td>6306.604270</td>\n",
       "      <td>0.000000</td>\n",
       "      <td>1000.00000</td>\n",
       "      <td>0.0</td>\n",
       "      <td>Personal Auto</td>\n",
       "      <td>Four-Door Car</td>\n",
       "      <td>2.704934</td>\n",
       "    </tr>\n",
       "    <tr>\n",
       "      <th>1</th>\n",
       "      <td>QZ44356</td>\n",
       "      <td>Arizona</td>\n",
       "      <td>F</td>\n",
       "      <td>Bachelor</td>\n",
       "      <td>6979.535900</td>\n",
       "      <td>0.000000</td>\n",
       "      <td>94.00000</td>\n",
       "      <td>0.0</td>\n",
       "      <td>Personal Auto</td>\n",
       "      <td>Four-Door Car</td>\n",
       "      <td>1131.464935</td>\n",
       "    </tr>\n",
       "    <tr>\n",
       "      <th>2</th>\n",
       "      <td>AI49188</td>\n",
       "      <td>Nevada</td>\n",
       "      <td>F</td>\n",
       "      <td>Bachelor</td>\n",
       "      <td>12887.431700</td>\n",
       "      <td>48767.000000</td>\n",
       "      <td>108.00000</td>\n",
       "      <td>0.0</td>\n",
       "      <td>Personal Auto</td>\n",
       "      <td>Two-Door Car</td>\n",
       "      <td>566.472247</td>\n",
       "    </tr>\n",
       "    <tr>\n",
       "      <th>3</th>\n",
       "      <td>WW63253</td>\n",
       "      <td>California</td>\n",
       "      <td>M</td>\n",
       "      <td>Bachelor</td>\n",
       "      <td>7645.861800</td>\n",
       "      <td>0.000000</td>\n",
       "      <td>106.00000</td>\n",
       "      <td>0.0</td>\n",
       "      <td>Corporate Auto</td>\n",
       "      <td>SUV</td>\n",
       "      <td>529.881344</td>\n",
       "    </tr>\n",
       "    <tr>\n",
       "      <th>4</th>\n",
       "      <td>GA49547</td>\n",
       "      <td>Washington</td>\n",
       "      <td>M</td>\n",
       "      <td>High School or Below</td>\n",
       "      <td>5363.076500</td>\n",
       "      <td>36357.000000</td>\n",
       "      <td>68.00000</td>\n",
       "      <td>0.0</td>\n",
       "      <td>Personal Auto</td>\n",
       "      <td>Four-Door Car</td>\n",
       "      <td>17.269323</td>\n",
       "    </tr>\n",
       "    <tr>\n",
       "      <th>...</th>\n",
       "      <td>...</td>\n",
       "      <td>...</td>\n",
       "      <td>...</td>\n",
       "      <td>...</td>\n",
       "      <td>...</td>\n",
       "      <td>...</td>\n",
       "      <td>...</td>\n",
       "      <td>...</td>\n",
       "      <td>...</td>\n",
       "      <td>...</td>\n",
       "      <td>...</td>\n",
       "    </tr>\n",
       "    <tr>\n",
       "      <th>1067</th>\n",
       "      <td>VJ51327</td>\n",
       "      <td>California</td>\n",
       "      <td>F</td>\n",
       "      <td>High School or Below</td>\n",
       "      <td>20314.997600</td>\n",
       "      <td>63209.000000</td>\n",
       "      <td>102.00000</td>\n",
       "      <td>2.0</td>\n",
       "      <td>Personal Auto</td>\n",
       "      <td>SUV</td>\n",
       "      <td>207.320041</td>\n",
       "    </tr>\n",
       "    <tr>\n",
       "      <th>1068</th>\n",
       "      <td>GS98873</td>\n",
       "      <td>Arizona</td>\n",
       "      <td>F</td>\n",
       "      <td>Bachelor</td>\n",
       "      <td>3239.124700</td>\n",
       "      <td>16061.000000</td>\n",
       "      <td>88.00000</td>\n",
       "      <td>0.0</td>\n",
       "      <td>Personal Auto</td>\n",
       "      <td>Four-Door Car</td>\n",
       "      <td>633.600000</td>\n",
       "    </tr>\n",
       "    <tr>\n",
       "      <th>1069</th>\n",
       "      <td>CW49887</td>\n",
       "      <td>California</td>\n",
       "      <td>F</td>\n",
       "      <td>Master</td>\n",
       "      <td>4626.801100</td>\n",
       "      <td>79487.000000</td>\n",
       "      <td>114.00000</td>\n",
       "      <td>0.0</td>\n",
       "      <td>Special Auto</td>\n",
       "      <td>SUV</td>\n",
       "      <td>547.200000</td>\n",
       "    </tr>\n",
       "    <tr>\n",
       "      <th>1070</th>\n",
       "      <td>MY31220</td>\n",
       "      <td>California</td>\n",
       "      <td>F</td>\n",
       "      <td>College</td>\n",
       "      <td>8997.040200</td>\n",
       "      <td>54230.000000</td>\n",
       "      <td>112.00000</td>\n",
       "      <td>0.0</td>\n",
       "      <td>Personal Auto</td>\n",
       "      <td>Two-Door Car</td>\n",
       "      <td>537.600000</td>\n",
       "    </tr>\n",
       "    <tr>\n",
       "      <th>1071</th>\n",
       "      <td>AA71604</td>\n",
       "      <td>California</td>\n",
       "      <td>U</td>\n",
       "      <td>Bachelor</td>\n",
       "      <td>7936.902593</td>\n",
       "      <td>39295.701214</td>\n",
       "      <td>193.23436</td>\n",
       "      <td>0.0</td>\n",
       "      <td>Personal Auto</td>\n",
       "      <td>Four-Door Car</td>\n",
       "      <td>404.986909</td>\n",
       "    </tr>\n",
       "  </tbody>\n",
       "</table>\n",
       "<p>1072 rows × 11 columns</p>\n",
       "</div>"
      ],
      "text/plain": [
       "     customer_id       state gender             education  \\\n",
       "0        RB50392  Washington      U                Master   \n",
       "1        QZ44356     Arizona      F              Bachelor   \n",
       "2        AI49188      Nevada      F              Bachelor   \n",
       "3        WW63253  California      M              Bachelor   \n",
       "4        GA49547  Washington      M  High School or Below   \n",
       "...          ...         ...    ...                   ...   \n",
       "1067     VJ51327  California      F  High School or Below   \n",
       "1068     GS98873     Arizona      F              Bachelor   \n",
       "1069     CW49887  California      F                Master   \n",
       "1070     MY31220  California      F               College   \n",
       "1071     AA71604  California      U              Bachelor   \n",
       "\n",
       "      customer_life_time_value        income  monthly_premium open_complaints  \\\n",
       "0                  6306.604270      0.000000       1000.00000             0.0   \n",
       "1                  6979.535900      0.000000         94.00000             0.0   \n",
       "2                 12887.431700  48767.000000        108.00000             0.0   \n",
       "3                  7645.861800      0.000000        106.00000             0.0   \n",
       "4                  5363.076500  36357.000000         68.00000             0.0   \n",
       "...                        ...           ...              ...             ...   \n",
       "1067              20314.997600  63209.000000        102.00000             2.0   \n",
       "1068               3239.124700  16061.000000         88.00000             0.0   \n",
       "1069               4626.801100  79487.000000        114.00000             0.0   \n",
       "1070               8997.040200  54230.000000        112.00000             0.0   \n",
       "1071               7936.902593  39295.701214        193.23436             0.0   \n",
       "\n",
       "         policy_type  vehicle_class  total_claim  \n",
       "0      Personal Auto  Four-Door Car     2.704934  \n",
       "1      Personal Auto  Four-Door Car  1131.464935  \n",
       "2      Personal Auto   Two-Door Car   566.472247  \n",
       "3     Corporate Auto            SUV   529.881344  \n",
       "4      Personal Auto  Four-Door Car    17.269323  \n",
       "...              ...            ...          ...  \n",
       "1067   Personal Auto            SUV   207.320041  \n",
       "1068   Personal Auto  Four-Door Car   633.600000  \n",
       "1069    Special Auto            SUV   547.200000  \n",
       "1070   Personal Auto   Two-Door Car   537.600000  \n",
       "1071   Personal Auto  Four-Door Car   404.986909  \n",
       "\n",
       "[1072 rows x 11 columns]"
      ]
     },
     "execution_count": 119,
     "metadata": {},
     "output_type": "execute_result"
    }
   ],
   "source": [
    "#Show DataFrame info.\n",
    "df_imputed"
   ]
  },
  {
   "cell_type": "code",
   "execution_count": 121,
   "id": "70c820c6",
   "metadata": {},
   "outputs": [
    {
     "data": {
      "text/html": [
       "<div>\n",
       "<style scoped>\n",
       "    .dataframe tbody tr th:only-of-type {\n",
       "        vertical-align: middle;\n",
       "    }\n",
       "\n",
       "    .dataframe tbody tr th {\n",
       "        vertical-align: top;\n",
       "    }\n",
       "\n",
       "    .dataframe thead th {\n",
       "        text-align: right;\n",
       "    }\n",
       "</style>\n",
       "<table border=\"1\" class=\"dataframe\">\n",
       "  <thead>\n",
       "    <tr style=\"text-align: right;\">\n",
       "      <th></th>\n",
       "      <th>customer_id</th>\n",
       "      <th>state</th>\n",
       "      <th>gender</th>\n",
       "      <th>education</th>\n",
       "      <th>open_complaints</th>\n",
       "      <th>policy_type</th>\n",
       "      <th>vehicle_class</th>\n",
       "    </tr>\n",
       "  </thead>\n",
       "  <tbody>\n",
       "    <tr>\n",
       "      <th>count</th>\n",
       "      <td>1072</td>\n",
       "      <td>1072</td>\n",
       "      <td>1072</td>\n",
       "      <td>1072</td>\n",
       "      <td>1072.0</td>\n",
       "      <td>1072</td>\n",
       "      <td>1072</td>\n",
       "    </tr>\n",
       "    <tr>\n",
       "      <th>unique</th>\n",
       "      <td>1071</td>\n",
       "      <td>5</td>\n",
       "      <td>3</td>\n",
       "      <td>5</td>\n",
       "      <td>6.0</td>\n",
       "      <td>3</td>\n",
       "      <td>4</td>\n",
       "    </tr>\n",
       "    <tr>\n",
       "      <th>top</th>\n",
       "      <td>AA71604</td>\n",
       "      <td>California</td>\n",
       "      <td>F</td>\n",
       "      <td>Bachelor</td>\n",
       "      <td>0.0</td>\n",
       "      <td>Personal Auto</td>\n",
       "      <td>Four-Door Car</td>\n",
       "    </tr>\n",
       "    <tr>\n",
       "      <th>freq</th>\n",
       "      <td>2</td>\n",
       "      <td>332</td>\n",
       "      <td>502</td>\n",
       "      <td>332</td>\n",
       "      <td>831.0</td>\n",
       "      <td>781</td>\n",
       "      <td>577</td>\n",
       "    </tr>\n",
       "  </tbody>\n",
       "</table>\n",
       "</div>"
      ],
      "text/plain": [
       "       customer_id       state gender education  open_complaints  \\\n",
       "count         1072        1072   1072      1072           1072.0   \n",
       "unique        1071           5      3         5              6.0   \n",
       "top        AA71604  California      F  Bachelor              0.0   \n",
       "freq             2         332    502       332            831.0   \n",
       "\n",
       "          policy_type  vehicle_class  \n",
       "count            1072           1072  \n",
       "unique              3              4  \n",
       "top     Personal Auto  Four-Door Car  \n",
       "freq              781            577  "
      ]
     },
     "execution_count": 121,
     "metadata": {},
     "output_type": "execute_result"
    }
   ],
   "source": [
    "#Describe DataFrame\n",
    "df_imputed.describe(include=[\"object\"])"
   ]
  },
  {
   "cell_type": "code",
   "execution_count": 122,
   "id": "0ae19e27",
   "metadata": {},
   "outputs": [
    {
     "data": {
      "text/html": [
       "<div>\n",
       "<style scoped>\n",
       "    .dataframe tbody tr th:only-of-type {\n",
       "        vertical-align: middle;\n",
       "    }\n",
       "\n",
       "    .dataframe tbody tr th {\n",
       "        vertical-align: top;\n",
       "    }\n",
       "\n",
       "    .dataframe thead th {\n",
       "        text-align: right;\n",
       "    }\n",
       "</style>\n",
       "<table border=\"1\" class=\"dataframe\">\n",
       "  <thead>\n",
       "    <tr style=\"text-align: right;\">\n",
       "      <th></th>\n",
       "      <th>customer_life_time_value</th>\n",
       "      <th>income</th>\n",
       "      <th>monthly_premium</th>\n",
       "      <th>total_claim</th>\n",
       "    </tr>\n",
       "  </thead>\n",
       "  <tbody>\n",
       "    <tr>\n",
       "      <th>count</th>\n",
       "      <td>1072.000000</td>\n",
       "      <td>1072.000000</td>\n",
       "      <td>1072.000000</td>\n",
       "      <td>1072.000000</td>\n",
       "    </tr>\n",
       "    <tr>\n",
       "      <th>mean</th>\n",
       "      <td>7935.311097</td>\n",
       "      <td>39295.701214</td>\n",
       "      <td>193.234360</td>\n",
       "      <td>404.986909</td>\n",
       "    </tr>\n",
       "    <tr>\n",
       "      <th>std</th>\n",
       "      <td>6422.982782</td>\n",
       "      <td>30455.198983</td>\n",
       "      <td>1600.442673</td>\n",
       "      <td>292.890427</td>\n",
       "    </tr>\n",
       "    <tr>\n",
       "      <th>min</th>\n",
       "      <td>2004.350700</td>\n",
       "      <td>0.000000</td>\n",
       "      <td>61.000000</td>\n",
       "      <td>0.382107</td>\n",
       "    </tr>\n",
       "    <tr>\n",
       "      <th>25%</th>\n",
       "      <td>4054.051000</td>\n",
       "      <td>14072.000000</td>\n",
       "      <td>68.000000</td>\n",
       "      <td>202.509051</td>\n",
       "    </tr>\n",
       "    <tr>\n",
       "      <th>50%</th>\n",
       "      <td>5888.345550</td>\n",
       "      <td>36295.500000</td>\n",
       "      <td>83.000000</td>\n",
       "      <td>354.964564</td>\n",
       "    </tr>\n",
       "    <tr>\n",
       "      <th>75%</th>\n",
       "      <td>8937.674825</td>\n",
       "      <td>64625.500000</td>\n",
       "      <td>110.000000</td>\n",
       "      <td>532.800000</td>\n",
       "    </tr>\n",
       "    <tr>\n",
       "      <th>max</th>\n",
       "      <td>58166.553500</td>\n",
       "      <td>99960.000000</td>\n",
       "      <td>35354.000000</td>\n",
       "      <td>2893.239678</td>\n",
       "    </tr>\n",
       "  </tbody>\n",
       "</table>\n",
       "</div>"
      ],
      "text/plain": [
       "       customer_life_time_value        income  monthly_premium  total_claim\n",
       "count               1072.000000   1072.000000      1072.000000  1072.000000\n",
       "mean                7935.311097  39295.701214       193.234360   404.986909\n",
       "std                 6422.982782  30455.198983      1600.442673   292.890427\n",
       "min                 2004.350700      0.000000        61.000000     0.382107\n",
       "25%                 4054.051000  14072.000000        68.000000   202.509051\n",
       "50%                 5888.345550  36295.500000        83.000000   354.964564\n",
       "75%                 8937.674825  64625.500000       110.000000   532.800000\n",
       "max                58166.553500  99960.000000     35354.000000  2893.239678"
      ]
     },
     "execution_count": 122,
     "metadata": {},
     "output_type": "execute_result"
    }
   ],
   "source": [
    "df_imputed.describe()"
   ]
  },
  {
   "cell_type": "code",
   "execution_count": 125,
   "id": "a11cebf2",
   "metadata": {},
   "outputs": [
    {
     "data": {
      "text/plain": [
       "<AxesSubplot: >"
      ]
     },
     "execution_count": 125,
     "metadata": {},
     "output_type": "execute_result"
    },
    {
     "data": {
      "image/png": "[encoded data removed]",
      "text/plain": [
       "<Figure size 640x480 with 1 Axes>"
      ]
     },
     "metadata": {},
     "output_type": "display_data"
    }
   ],
   "source": [
    "#Show a plot of the Gender breakdown.\n",
    "import matplotlib.pyplot as plt\n",
    "import seaborn as sns \n",
    "df_imputed[\"gender\"].value_counts().plot(kind=\"bar\")"
   ]
  },
  {
   "cell_type": "code",
   "execution_count": 129,
   "id": "7db738c8",
   "metadata": {},
   "outputs": [
    {
     "data": {
      "text/plain": [
       "<AxesSubplot: xlabel='state', ylabel='income'>"
      ]
     },
     "execution_count": 129,
     "metadata": {},
     "output_type": "execute_result"
    },
    {
     "data": {
      "image/png": "[encoded data removed]",
      "text/plain": [
       "<Figure size 640x480 with 1 Axes>"
      ]
     },
     "metadata": {},
     "output_type": "display_data"
    }
   ],
   "source": [
    "#Show a plot of Income by State.\n",
    "sns.barplot(x=\"state\", y =\"income\", data=df_imputed ,errorbar=None)"
   ]
  },
  {
   "cell_type": "code",
   "execution_count": 131,
   "id": "5d9fb679",
   "metadata": {},
   "outputs": [
    {
     "data": {
      "text/plain": [
       "<AxesSubplot: xlabel='policy_type', ylabel='total_claim'>"
      ]
     },
     "execution_count": 131,
     "metadata": {},
     "output_type": "execute_result"
    },
    {
     "data": {
      "image/png": "[encoded data removed]",
      "text/plain": [
       "<Figure size 640x480 with 1 Axes>"
      ]
     },
     "metadata": {},
     "output_type": "display_data"
    }
   ],
   "source": [
    "# Show a plot of the Policy Type by the Total Claim Amount.\n",
    "sns.barplot(x=\"policy_type\", y =\"total_claim\", data=df_imputed ,errorbar=None)"
   ]
  },
  {
   "cell_type": "code",
   "execution_count": 139,
   "id": "d005157d",
   "metadata": {},
   "outputs": [
    {
     "data": {
      "image/png": "[encoded data removed]",
      "text/plain": [
       "<Figure size 640x480 with 1 Axes>"
      ]
     },
     "metadata": {},
     "output_type": "display_data"
    }
   ],
   "source": [
    "#Show a plot of the Education by Vehicle Class.\n",
    "sns.countplot(x=\"vehicle_class\", hue =\"education\", data = df_imputed)\n",
    "plt.show()\n",
    "#i finnally used a countplot after many attempts with the others ,but none of the convinced me as this one does."
   ]
  },
  {
   "cell_type": "markdown",
   "id": "56c06066",
   "metadata": {},
   "source": [
    "### What insights can you establish from these plots?\n",
    "\n",
    "* First gender plot ,just shows us there is a litlle number of unknow gender, and then slightly more females than males\n",
    "* Sencond plot of income by state shows washinton having a better income average than the rest which are more equally distributed.\n",
    "* Third plot of policy type by total claim shows that the type of policy is not highly correlated to the toal claim ammount,all present allmost the same total claim average\n",
    "* The final plot first of all shows us that there way more four-door cars than two-door ,suvs or luxury cars\n",
    "after that we can see a lower number of masters and doctor education type probably because there are just less people that have that grade\n",
    "We can also see a similar amount of cars for the rest of education groups. "
   ]
  },
  {
   "cell_type": "code",
   "execution_count": null,
   "id": "470412ad",
   "metadata": {},
   "outputs": [],
   "source": []
  }
 ],
 "metadata": {
  "colab": {
   "provenance": []
  },
  "kernelspec": {
   "display_name": "Python 3 (ipykernel)",
   "language": "python",
   "name": "python3"
  },
  "language_info": {
   "codemirror_mode": {
    "name": "ipython",
    "version": 3
   },
   "file_extension": ".py",
   "mimetype": "text/x-python",
   "name": "python",
   "nbconvert_exporter": "python",
   "pygments_lexer": "ipython3",
   "version": "3.10.9"
  }
 },
 "nbformat": 4,
 "nbformat_minor": 5
}
